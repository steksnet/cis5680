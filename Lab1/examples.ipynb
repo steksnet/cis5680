{
 "cells": [
  {
   "cell_type": "markdown",
   "id": "0872098a",
   "metadata": {},
   "source": [
    "# Some Python examples from W3 Schools Tutorial"
   ]
  },
  {
   "cell_type": "raw",
   "id": "7f6954fd",
   "metadata": {},
   "source": [
    "You will see three examples below"
   ]
  },
  {
   "cell_type": "markdown",
   "id": "cbc28c09",
   "metadata": {},
   "source": [
    "*Examples 1 -list*"
   ]
  },
  {
   "cell_type": "code",
   "execution_count": 2,
   "id": "bc21c090",
   "metadata": {},
   "outputs": [
    {
     "name": "stdout",
     "output_type": "stream",
     "text": [
      "['apple', 'banana', 'cherry']\n"
     ]
    }
   ],
   "source": [
    "thislist = list((\"apple\", \"banana\", \"cherry\")) #note the double round-brackets\n",
    "print(thislist)"
   ]
  },
  {
   "cell_type": "markdown",
   "id": "48bcf14c",
   "metadata": {},
   "source": [
    "*Example 2 --Pandas*"
   ]
  },
  {
   "cell_type": "code",
   "execution_count": 5,
   "id": "ecb96ef2",
   "metadata": {},
   "outputs": [
    {
     "name": "stdout",
     "output_type": "stream",
     "text": [
      "   calories  duration\n",
      "0       420        50\n",
      "1       380        40\n",
      "2       390        45\n"
     ]
    }
   ],
   "source": [
    "import pandas as pd\n",
    "\n",
    "data = {\n",
    "    \"calories\": [420, 380, 390],\n",
    "    \"duration\": [50, 40, 45]\n",
    "}\n",
    "\n",
    "#Load data into a DataFrame object:\n",
    "df = pd.DataFrame(data)\n",
    "    \n",
    "print(df)"
   ]
  },
  {
   "cell_type": "markdown",
   "id": "94622391",
   "metadata": {},
   "source": [
    "*Example 3 --Charts*"
   ]
  },
  {
   "cell_type": "code",
   "execution_count": 8,
   "id": "9b7c8820",
   "metadata": {},
   "outputs": [
    {
     "data": {
      "image/png": "[encoded data removed]",
      "text/plain": [
       "<Figure size 432x288 with 1 Axes>"
      ]
     },
     "metadata": {},
     "output_type": "display_data"
    }
   ],
   "source": [
    "import matplotlib.pyplot as plt\n",
    "import numpy as np\n",
    "\n",
    "y= np.array ([35, 25, 25, 15])\n",
    "mylabels = [\"Apples\", \"Bananas\", \"Cherries\", \"Dates\"]\n",
    "\n",
    "plt.pie(y, labels = mylabels)\n",
    "plt.show()"
   ]
  },
  {
   "cell_type": "code",
   "execution_count": null,
   "id": "91aa06d7",
   "metadata": {},
   "outputs": [],
   "source": []
  }
 ],
 "metadata": {
  "kernelspec": {
   "display_name": "conda_python3",
   "language": "python",
   "name": "conda_python3"
  },
  "language_info": {
   "codemirror_mode": {
    "name": "ipython",
    "version": 3
   },
   "file_extension": ".py",
   "mimetype": "text/x-python",
   "name": "python",
   "nbconvert_exporter": "python",
   "pygments_lexer": "ipython3",
   "version": "3.6.13"
  }
 },
 "nbformat": 4,
 "nbformat_minor": 5
}
