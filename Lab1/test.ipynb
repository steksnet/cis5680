{
 "cells": [
  {
   "cell_type": "markdown",
   "id": "c3df16d0",
   "metadata": {},
   "source": [
    "# Test Notebook 1"
   ]
  },
  {
   "cell_type": "raw",
   "id": "6cd139b2",
   "metadata": {},
   "source": [
    "This is my first notebook to the some basic instructions"
   ]
  },
  {
   "cell_type": "markdown",
   "id": "3c7a61be",
   "metadata": {},
   "source": [
    "### First line of python code"
   ]
  },
  {
   "cell_type": "code",
   "execution_count": 1,
   "id": "dcff3d63",
   "metadata": {},
   "outputs": [
    {
     "name": "stdout",
     "output_type": "stream",
     "text": [
      "Hello everyone, welcome you taking the class CIS5680!\n"
     ]
    }
   ],
   "source": [
    "print(\"Hello everyone, welcome you taking the class CIS5680!\")"
   ]
  },
  {
   "cell_type": "markdown",
   "id": "567f0c8b",
   "metadata": {},
   "source": [
    "*second line of pyton code*"
   ]
  },
  {
   "cell_type": "code",
   "execution_count": 2,
   "id": "c04f028b",
   "metadata": {},
   "outputs": [
    {
     "name": "stdout",
     "output_type": "stream",
     "text": [
      "this class has fun.\n"
     ]
    }
   ],
   "source": [
    "print(\"this class has fun.\")"
   ]
  },
  {
   "cell_type": "code",
   "execution_count": null,
   "id": "c58c41c1",
   "metadata": {},
   "outputs": [],
   "source": []
  }
 ],
 "metadata": {
  "kernelspec": {
   "display_name": "conda_python3",
   "language": "python",
   "name": "conda_python3"
  },
  "language_info": {
   "codemirror_mode": {
    "name": "ipython",
    "version": 3
   },
   "file_extension": ".py",
   "mimetype": "text/x-python",
   "name": "python",
   "nbconvert_exporter": "python",
   "pygments_lexer": "ipython3",
   "version": "3.6.13"
  }
 },
 "nbformat": 4,
 "nbformat_minor": 5
}
